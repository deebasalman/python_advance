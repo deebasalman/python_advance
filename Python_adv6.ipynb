{
  "nbformat": 4,
  "nbformat_minor": 0,
  "metadata": {
    "colab": {
      "provenance": []
    },
    "kernelspec": {
      "name": "python3",
      "display_name": "Python 3"
    },
    "language_info": {
      "name": "python"
    }
  },
  "cells": [
    {
      "cell_type": "markdown",
      "source": [
        "Q1. Describe three applications for exception processing."
      ],
      "metadata": {
        "id": "VBCGdnkqln1b"
      }
    },
    {
      "cell_type": "markdown",
      "source": [
        "Exception processing consist of 3 steps:\n",
        "\n",
        "1.A try block that encloses the code section which might throw an exception.\n",
        "\n",
        "2.One or more catch blocks that handle the exception.\n",
        "\n",
        "3.A finally block which gets executed after the try block was successfully executed or a thrown exception was handled."
      ],
      "metadata": {
        "id": "3b1YABTnlrEc"
      }
    },
    {
      "cell_type": "markdown",
      "source": [
        "Q2. What happens if you don&#39;t do something extra to treat an exception?"
      ],
      "metadata": {
        "id": "SOMKCy31RgGx"
      }
    },
    {
      "cell_type": "markdown",
      "source": [
        "We need to know how to properly handle exceptions, especially in production environments, because if they are not handled your program won't know what to do and will crash."
      ],
      "metadata": {
        "id": "0RKwgOc-R0kS"
      }
    },
    {
      "cell_type": "markdown",
      "source": [
        "Q3. What are your options for recovering from an exception in your script?"
      ],
      "metadata": {
        "id": "EUgtCqkcSEgj"
      }
    },
    {
      "cell_type": "markdown",
      "source": [
        "Try and except statements are used to catch and handle exceptions in Python. Statements that can raise exceptions are kept inside the try clause and the statements that handle the exception are written inside except clause."
      ],
      "metadata": {
        "id": "JBgWDs5dSGkr"
      }
    },
    {
      "cell_type": "markdown",
      "source": [
        "Q4. Describe two methods for triggering exceptions in your script."
      ],
      "metadata": {
        "id": "laVoyEocS0mg"
      }
    },
    {
      "cell_type": "markdown",
      "source": [
        "Try – This method catches the exceptions raised by the program.\n",
        "\n",
        " Raise – Triggers an exception manually using custom exceptions."
      ],
      "metadata": {
        "id": "6fviK1-XScQP"
      }
    },
    {
      "cell_type": "markdown",
      "source": [
        "Q5. Identify two methods for specifying actions to be executed at termination time, regardless of\n",
        "whether or not an exception exists."
      ],
      "metadata": {
        "id": "h7RAE5eaS3wo"
      }
    },
    {
      "cell_type": "markdown",
      "source": [
        "1.The `finally` keyword in the try-except block is always executed, irrespective of whether there is an exception or not.\n",
        "\n",
        "2.End Try\tTerminates the Try...Catch...Finally structure."
      ],
      "metadata": {
        "id": "BqwSUG-4S7q_"
      }
    },
    {
      "cell_type": "code",
      "execution_count": null,
      "metadata": {
        "id": "zz78MH-QljfW"
      },
      "outputs": [],
      "source": []
    }
  ]
}