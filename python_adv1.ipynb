{
  "nbformat": 4,
  "nbformat_minor": 0,
  "metadata": {
    "colab": {
      "provenance": []
    },
    "kernelspec": {
      "name": "python3",
      "display_name": "Python 3"
    },
    "language_info": {
      "name": "python"
    }
  },
  "cells": [
    {
      "cell_type": "markdown",
      "source": [
        "q1.What is the purpose of Python's OOP?"
      ],
      "metadata": {
        "id": "SsXi4WOGNlnC"
      }
    },
    {
      "cell_type": "markdown",
      "source": [
        " It aims to implement real-world entities like inheritance, polymorphisms, encapsulation, etc. in the programming. The main concept of OOPs is to bind the data and the functions that work on that together as a single unit so that no other part of the code can access this data"
      ],
      "metadata": {
        "id": "e37ioDnkOTMI"
      }
    },
    {
      "cell_type": "markdown",
      "source": [
        "Q2. Where does an inheritance search look for an attribute?"
      ],
      "metadata": {
        "id": "LClCb-gJOfcI"
      }
    },
    {
      "cell_type": "markdown",
      "source": [
        " An inheritance search looks for an attribute first in the instance object, then in the class the instance was created from, then in all higher superclasses, progressing from left to right ."
      ],
      "metadata": {
        "id": "k3iC6sIuOg5x"
      }
    },
    {
      "cell_type": "markdown",
      "source": [
        "Q3. How do you distinguish between a class object and an instance object?"
      ],
      "metadata": {
        "id": "R5uD7kHiPGmY"
      }
    },
    {
      "cell_type": "markdown",
      "source": [
        "A class is a type of blueprint that you can use to make objects, while the terms 'object' and 'instance' are interchangeable, the term 'instance' refers to an object's relationship to its class."
      ],
      "metadata": {
        "id": "uESWvk9VPpLI"
      }
    },
    {
      "cell_type": "markdown",
      "source": [
        "Q4. What makes the first argument in a class’s method function special?"
      ],
      "metadata": {
        "id": "rhnWMwpSP-x0"
      }
    },
    {
      "cell_type": "markdown",
      "source": [
        "The calling process is automatic while the receiving process is not (its explicit). This is the reason the first parameter of a function in class must be the object itself."
      ],
      "metadata": {
        "id": "ZKiDdDeqQdzm"
      }
    },
    {
      "cell_type": "markdown",
      "source": [
        "Q5. What is the purpose of the __init__ method?"
      ],
      "metadata": {
        "id": "qNA8f4uTQ5aa"
      }
    },
    {
      "cell_type": "markdown",
      "source": [
        "When you make a new class in Python the first method you'll likely make is the __init__ method. The __init__ method allows you to accept arguments to your class.\n",
        "\n",
        "More importantly, the __init__ method allows you to assign initial values to various attributes on your class instances."
      ],
      "metadata": {
        "id": "y1c2_sc7Ra2i"
      }
    },
    {
      "cell_type": "markdown",
      "source": [
        "Q6. What is the process for creating a class instance?"
      ],
      "metadata": {
        "id": "m68cadbIRiTi"
      }
    },
    {
      "cell_type": "markdown",
      "source": [
        "To create instances of a class, you call the class using class name and pass in whatever arguments its __init__ method accepts."
      ],
      "metadata": {
        "id": "xG0E2Z3PRjo0"
      }
    },
    {
      "cell_type": "markdown",
      "source": [
        "Q7. What is the process for creating a class?"
      ],
      "metadata": {
        "id": "N_o8hJnaRydR"
      }
    },
    {
      "cell_type": "markdown",
      "source": [
        "A class is a user-defined blueprint or prototype from which objects are created. Classes provide a means of bundling data and functionality together."
      ],
      "metadata": {
        "id": "KpFKlnzqRzfp"
      }
    },
    {
      "cell_type": "markdown",
      "source": [
        "Q8. How would you define the superclasses of a class?"
      ],
      "metadata": {
        "id": "AXtF0b6rSt2J"
      }
    },
    {
      "cell_type": "markdown",
      "source": [
        "A superclass is the class from which many subclasses can be created. The subclasses inherit the characteristics of a superclass. The superclass is also known as the parent class or base class."
      ],
      "metadata": {
        "id": "mBN72thPSwWH"
      }
    },
    {
      "cell_type": "code",
      "source": [],
      "metadata": {
        "id": "-Gq8Es-UStPp"
      },
      "execution_count": null,
      "outputs": []
    },
    {
      "cell_type": "code",
      "execution_count": null,
      "metadata": {
        "id": "y_B2yR0eNkzr"
      },
      "outputs": [],
      "source": []
    }
  ]
}