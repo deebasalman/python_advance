{
  "nbformat": 4,
  "nbformat_minor": 0,
  "metadata": {
    "colab": {
      "provenance": []
    },
    "kernelspec": {
      "name": "python3",
      "display_name": "Python 3"
    },
    "language_info": {
      "name": "python"
    }
  },
  "cells": [
    {
      "cell_type": "markdown",
      "source": [
        "Q1. What is the difference between __getattr__ and __getattribute__?"
      ],
      "metadata": {
        "id": "9nKnQCvh-pTF"
      }
    },
    {
      "cell_type": "markdown",
      "source": [
        "The main difference between __getattr__ and __getattribute__ is that if the attribute was not found by the usual way then __getattr__ is used.\n",
        "\n",
        "Whereas the __getattribute__ is used before looking at the actual attributes on the object."
      ],
      "metadata": {
        "id": "XVlGUvJ1-sis"
      }
    },
    {
      "cell_type": "markdown",
      "source": [
        "Q2. What is the difference between properties and descriptors?"
      ],
      "metadata": {
        "id": "MRiHVvAY_ZTz"
      }
    },
    {
      "cell_type": "markdown",
      "source": [
        "Descriptors are a low-level mechanism that lets you hook into an object's attributes being accessed. Properties are a high-level application of this; that is, properties are implemented using descriptors."
      ],
      "metadata": {
        "id": "5qzdi-16_6dR"
      }
    },
    {
      "cell_type": "markdown",
      "source": [
        "Q3. What are the key differences in functionality between __getattr__ and __getattribute__, as well as\n",
        "properties and descriptors?"
      ],
      "metadata": {
        "id": "hp3g4nzO_9Uh"
      }
    },
    {
      "cell_type": "markdown",
      "source": [
        " The main difference between __getattr__ and __getattribute__ is that if the attribute was not found by the usual way then __getattr__ is used. Whereas the __getattribute__ is used before looking at the actual attributes on the object.\n",
        "\n",
        "  Descriptors are a low-level mechanism that lets you hook into an object's attributes being accessed. Properties are a high-level application of this; that is, properties are implemented using descriptors."
      ],
      "metadata": {
        "id": "UcT-Ruq1ABvA"
      }
    },
    {
      "cell_type": "code",
      "execution_count": null,
      "metadata": {
        "id": "vI1f3qEn-Tjj"
      },
      "outputs": [],
      "source": []
    }
  ]
}