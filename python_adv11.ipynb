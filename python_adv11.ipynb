{
  "nbformat": 4,
  "nbformat_minor": 0,
  "metadata": {
    "colab": {
      "provenance": []
    },
    "kernelspec": {
      "name": "python3",
      "display_name": "Python 3"
    },
    "language_info": {
      "name": "python"
    }
  },
  "cells": [
    {
      "cell_type": "markdown",
      "source": [
        "Q1. What is the concept of a metaclass?"
      ],
      "metadata": {
        "id": "TIIgJ_aREaO3"
      }
    },
    {
      "cell_type": "markdown",
      "source": [
        "Q1. What is the concept of a metaclass?"
      ],
      "metadata": {
        "id": "_1yAyI1-oI6M"
      }
    },
    {
      "cell_type": "markdown",
      "source": [
        "A metaclass in Python is a class of a class that defines how a class behaves. A class is itself an instance of a metaclass"
      ],
      "metadata": {
        "id": "KG9P_b07Ecde"
      }
    },
    {
      "cell_type": "markdown",
      "source": [
        "Q2. What is the best way to declare a class&#39;s metaclass?"
      ],
      "metadata": {
        "id": "QhiGkCWXoM1k"
      }
    },
    {
      "cell_type": "markdown",
      "source": [
        "class TestClass():\n",
        "    pass\n",
        "\n",
        "my_test_class = TestClass()\n",
        "print(my_test_class)"
      ],
      "metadata": {
        "id": "3-0E-fxSoQTs"
      }
    },
    {
      "cell_type": "markdown",
      "source": [
        "Q3. How do class decorators overlap with metaclasses for handling classes?"
      ],
      "metadata": {
        "id": "gfEuCliVo24k"
      }
    },
    {
      "cell_type": "markdown",
      "source": [
        "Functions can be decorated with classes to extend their functionality. Further, classes that decorate functions can either accept arguments or fall back to a default if no argument is passed."
      ],
      "metadata": {
        "id": "fqTvgrhHo7aT"
      }
    },
    {
      "cell_type": "markdown",
      "source": [
        "Q4. How do class decorators overlap with metaclasses for handling instances?"
      ],
      "metadata": {
        "id": "BIldqCnftPzC"
      }
    },
    {
      "cell_type": "markdown",
      "source": [
        "Decorators are functions that wrap around the original function and add some additional functionalities without directly modifying the original code.\n",
        "Whenever a function is defined with a decorator, the original function is called with the decorator, and the decorator function returns a new function that replaces the original function."
      ],
      "metadata": {
        "id": "xZmNwWRNvCHK"
      }
    },
    {
      "cell_type": "code",
      "execution_count": null,
      "metadata": {
        "id": "2A6bKp4-EQDq"
      },
      "outputs": [],
      "source": []
    }
  ]
}