{
  "nbformat": 4,
  "nbformat_minor": 0,
  "metadata": {
    "colab": {
      "provenance": []
    },
    "kernelspec": {
      "name": "python3",
      "display_name": "Python 3"
    },
    "language_info": {
      "name": "python"
    }
  },
  "cells": [
    {
      "cell_type": "markdown",
      "source": [
        "Q1. Does assigning a value to a string&#39;s indexed character violate Python&#39;s string immutability?"
      ],
      "metadata": {
        "id": "Lv2BuNNa9Whs"
      }
    },
    {
      "cell_type": "markdown",
      "source": [
        "In Python, strings have the property of immutability. They cannot be mutated or changed."
      ],
      "metadata": {
        "id": "4NdOLrcv9YCV"
      }
    },
    {
      "cell_type": "markdown",
      "source": [
        "Q2. Does using the += operator to concatenate strings violate Python&#39;s string immutability? Why or\n",
        "why not?"
      ],
      "metadata": {
        "id": "DGweof_3-FhM"
      }
    },
    {
      "cell_type": "markdown",
      "source": [
        "Yes, but with += on immutable objects, the old and new values are supposed to have overlapping lifetime. The new value is supposed to be created before the assignment happens, and the old value's lifetime only ends once the new value is assigned to the variable."
      ],
      "metadata": {
        "id": "-nVJsJRI-J5s"
      }
    },
    {
      "cell_type": "markdown",
      "source": [
        "Q3. In Python, how many different ways are there to index a character?"
      ],
      "metadata": {
        "id": "XRYme-48_g6W"
      }
    },
    {
      "cell_type": "markdown",
      "source": [
        "There are two ways to index a character\n",
        "1-String indexing in Python is zero-based: the first character in the string has index 0, the next has index 1, and so on. The index of the last character will be the length of the string minus one.\n",
        "2-Indexing occurs from the end of the string backward: -1 refers to the last character, -2 the second-to-last character, and so on."
      ],
      "metadata": {
        "id": "uWR_oX828Kq2"
      }
    },
    {
      "cell_type": "markdown",
      "source": [
        "Q4. What is the relationship between indexing and slicing?"
      ],
      "metadata": {
        "id": "bz3xpkxU8tgb"
      }
    },
    {
      "cell_type": "markdown",
      "source": [
        "Python also allows a form of indexing syntax that extracts substrings from a string, known as string slicing. If s is a string, an expression of the form s[m:n] returns the portion of s starting with position m, and up to but not including position n"
      ],
      "metadata": {
        "id": "oLavMQJY9DHJ"
      }
    },
    {
      "cell_type": "markdown",
      "source": [
        "Q5. What is an indexed character&#39;s exact data type? What is the data form of a slicing-generated\n",
        "substring?"
      ],
      "metadata": {
        "id": "Bb9Cmg3V9HHx"
      }
    },
    {
      "cell_type": "markdown",
      "source": [
        "The Python string data type is a sequence made up of one or more individual characters that could consist of letters, numbers, whitespace characters, or symbols. Because a string is a sequence, it can be accessed in the same ways that other sequence-based data types are, through indexing and slicing.\n",
        "\n",
        " Each character in a Python string has a corresponding index number allows us to access and manipulate strings in the same ways we can with other sequential data types.\n"
      ],
      "metadata": {
        "id": "6ik0bx49-gEG"
      }
    },
    {
      "cell_type": "markdown",
      "source": [
        "Q6. What is the relationship between string and character &quot;types&quot; in Python?"
      ],
      "metadata": {
        "id": "uHYdXcqj9OIY"
      }
    },
    {
      "cell_type": "markdown",
      "source": [
        "Like many other popular programming languages, strings in Python are arrays of bytes representing unicode characters.\n",
        "\n",
        "However, Python does not have a character data type, a single character is simply a string with a length of 1"
      ],
      "metadata": {
        "id": "Sr1pWEqF_k-m"
      }
    },
    {
      "cell_type": "markdown",
      "source": [
        "Q7. Identify at least two operators and one method that allow you to combine one or more smaller\n",
        "strings to create a larger string."
      ],
      "metadata": {
        "id": "ZYOXudtg_mU8"
      }
    },
    {
      "cell_type": "code",
      "source": [
        "var1=\"Hello\"\n",
        "var2=\"world\"\n",
        "\n",
        "var3=var1+var2\n",
        "print(var3)"
      ],
      "metadata": {
        "colab": {
          "base_uri": "https://localhost:8080/"
        },
        "id": "jqRbT_A4ABp0",
        "outputId": "7f52f774-bdd9-4b94-af12-8a5be56f9d64"
      },
      "execution_count": 1,
      "outputs": [
        {
          "output_type": "stream",
          "name": "stdout",
          "text": [
            "Helloworld\n"
          ]
        }
      ]
    },
    {
      "cell_type": "code",
      "source": [
        "print(\"%s %s\"%(var1,var2))"
      ],
      "metadata": {
        "colab": {
          "base_uri": "https://localhost:8080/"
        },
        "id": "KGTcKnfYAYGS",
        "outputId": "be454fd5-e3a3-4d44-869b-9a2fc4962999"
      },
      "execution_count": 2,
      "outputs": [
        {
          "output_type": "stream",
          "name": "stdout",
          "text": [
            "Hello world\n"
          ]
        }
      ]
    },
    {
      "cell_type": "code",
      "source": [
        "print(\" \".join([var1,var2]))"
      ],
      "metadata": {
        "colab": {
          "base_uri": "https://localhost:8080/"
        },
        "id": "0SnUL-67BAH_",
        "outputId": "65ae1304-8a4f-48e1-b1c3-1cab75d6e5a3"
      },
      "execution_count": 4,
      "outputs": [
        {
          "output_type": "stream",
          "name": "stdout",
          "text": [
            "Hello world\n"
          ]
        }
      ]
    },
    {
      "cell_type": "markdown",
      "source": [
        "Q8. What is the benefit of first checking the target string with in or not in before using the index\n",
        "method to find a substring?"
      ],
      "metadata": {
        "id": "HwahckYrAA-d"
      }
    },
    {
      "cell_type": "markdown",
      "source": [
        "Because if the index value is beyound the lenght of the string then its showes earror."
      ],
      "metadata": {
        "id": "-5_nbiYJBo1A"
      }
    },
    {
      "cell_type": "markdown",
      "source": [
        "Q9. Which operators and built-in string methods produce simple Boolean (true/false) results?"
      ],
      "metadata": {
        "id": "rZC3CeQ__vJ1"
      }
    },
    {
      "cell_type": "markdown",
      "source": [
        "Boolean Operations are simple arithmetic of True and False values. These values can be manipulated by the use of boolean operators which include AND, Or, and NOT. Common boolean operations are –\n",
        "\n",
        "or\n",
        "\n",
        "and\n",
        "\n",
        "not\n",
        "\n",
        "== (equivalent)\n",
        "\n",
        "!= (not equivalent)\n"
      ],
      "metadata": {
        "id": "DZZTcZcYCih1"
      }
    },
    {
      "cell_type": "code",
      "execution_count": null,
      "metadata": {
        "id": "XWMab8-F9WAM"
      },
      "outputs": [],
      "source": []
    }
  ]
}