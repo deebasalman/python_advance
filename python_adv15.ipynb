{
  "nbformat": 4,
  "nbformat_minor": 0,
  "metadata": {
    "colab": {
      "provenance": []
    },
    "kernelspec": {
      "name": "python3",
      "display_name": "Python 3"
    },
    "language_info": {
      "name": "python"
    }
  },
  "cells": [
    {
      "cell_type": "markdown",
      "source": [
        "1. What are the new features added in Python 3.8 version?"
      ],
      "metadata": {
        "id": "saoP_tP2w7_7"
      }
    },
    {
      "cell_type": "markdown",
      "source": [
        "There is new syntax := that assigns values to variables as part of a larger expression. It is affectionately known as “the walrus operator”"
      ],
      "metadata": {
        "id": "7V6XLU09xAJb"
      }
    },
    {
      "cell_type": "markdown",
      "source": [
        "2. What is monkey patching in Python?"
      ],
      "metadata": {
        "id": "vby-vLbcxgDe"
      }
    },
    {
      "cell_type": "markdown",
      "source": [
        "Monkey patching in python refers to modifying or updating a piece of code or class or any module at the runtime. In simple words, we can change the behavior or working of a class/ module at the runtime without changing the whole python code"
      ],
      "metadata": {
        "id": "npT1_lmNxkUN"
      }
    },
    {
      "cell_type": "markdown",
      "source": [
        "3. What is the difference between a shallow copy and deep copy?"
      ],
      "metadata": {
        "id": "WcyJeNDGx1XD"
      }
    },
    {
      "cell_type": "markdown",
      "source": [
        "In Shallow copy, a copy of the original object is stored and only the reference address is finally copied. In Deep copy, the copy of the original object and the repetitive copies both are stored."
      ],
      "metadata": {
        "id": "7TMUDlsHx57S"
      }
    },
    {
      "cell_type": "markdown",
      "source": [
        "4. What is the maximum possible length of an identifier?"
      ],
      "metadata": {
        "id": "x6cumP28yFPV"
      }
    },
    {
      "cell_type": "markdown",
      "source": [
        "The maximum possible length of an identifier in the Python language is 79 characters."
      ],
      "metadata": {
        "id": "eCYg9BsPy-bK"
      }
    },
    {
      "cell_type": "markdown",
      "source": [
        "5. What is generator comprehension?"
      ],
      "metadata": {
        "id": "u6ri9pOxzBZp"
      }
    },
    {
      "cell_type": "markdown",
      "source": [
        "A generator comprehension is a single-line specification for defining a generator in Python. It is absolutely essential to learn this syntax in order to write simple and readable code."
      ],
      "metadata": {
        "id": "YKr1DxtEzI1G"
      }
    },
    {
      "cell_type": "code",
      "execution_count": null,
      "metadata": {
        "id": "96p9aIf7woOi"
      },
      "outputs": [],
      "source": []
    }
  ]
}