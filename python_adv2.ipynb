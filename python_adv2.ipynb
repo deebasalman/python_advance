{
  "nbformat": 4,
  "nbformat_minor": 0,
  "metadata": {
    "colab": {
      "provenance": []
    },
    "kernelspec": {
      "name": "python3",
      "display_name": "Python 3"
    },
    "language_info": {
      "name": "python"
    }
  },
  "cells": [
    {
      "cell_type": "markdown",
      "source": [
        "Q1. What is the relationship between classes and modules?"
      ],
      "metadata": {
        "id": "Y4mMBaLbm4HK"
      }
    },
    {
      "cell_type": "markdown",
      "source": [
        " Modules are collections of methods and constants. They cannot generate instances. Classes may generate instances (objects), and have per-instance state (instance variables)."
      ],
      "metadata": {
        "id": "Rki1Te3DnNlg"
      }
    },
    {
      "cell_type": "markdown",
      "source": [
        "Q2. How do you make instances and classes?"
      ],
      "metadata": {
        "id": "LXlvOYNDnW_Y"
      }
    },
    {
      "cell_type": "markdown",
      "source": [
        "To create instances of a class, you call the class using class name and pass in whatever arguments its __init__ method accepts."
      ],
      "metadata": {
        "id": "uvNsJ6HdoVcv"
      }
    },
    {
      "cell_type": "markdown",
      "source": [
        "Q3. Where and how should be class attributes created?"
      ],
      "metadata": {
        "id": "ANFrmuctpExb"
      }
    },
    {
      "cell_type": "markdown",
      "source": [
        "A class attribute is shared by all instances of the class. To define a class attribute, you place it outside of the __init__() method. Use class_name. class_attribute "
      ],
      "metadata": {
        "id": "FV_uLu74pCKT"
      }
    },
    {
      "cell_type": "code",
      "source": [
        "class Student:\n",
        "    count = 0\n",
        "    def __init__(self):\n",
        "        Student.count += 1"
      ],
      "metadata": {
        "id": "x8eJZzMnq0PM"
      },
      "execution_count": null,
      "outputs": []
    },
    {
      "cell_type": "markdown",
      "source": [
        "Q4. Where and how are instance attributes created?"
      ],
      "metadata": {
        "id": "bX_ZAJiApGJS"
      }
    },
    {
      "cell_type": "markdown",
      "source": [
        "Instance attributes defined inside a constructor using the self parameter."
      ],
      "metadata": {
        "id": "ec-E_iyyqbH6"
      }
    },
    {
      "cell_type": "code",
      "execution_count": null,
      "metadata": {
        "id": "6v6UGgNamoKX"
      },
      "outputs": [],
      "source": [
        "class Student:\n",
        "    def __init__(self, name, age): \n",
        "        self.name = name\n",
        "        self.age = age"
      ]
    },
    {
      "cell_type": "markdown",
      "source": [
        "Q5. What does the term &quot;self&quot; in a Python class mean?"
      ],
      "metadata": {
        "id": "-cSNt3YjrAOC"
      }
    },
    {
      "cell_type": "markdown",
      "source": [
        "It does not have to be named self , you can call it whatever you like, but it has to be the first parameter of any function in the class.The self parameter is a reference to the current instance of the class, and is used to access variables that belongs to the class."
      ],
      "metadata": {
        "id": "52esOpKnrBNZ"
      }
    },
    {
      "cell_type": "markdown",
      "source": [
        "Q6. How does a Python class handle operator overloading?"
      ],
      "metadata": {
        "id": "6_O0bblBrswb"
      }
    },
    {
      "cell_type": "markdown",
      "source": [
        "The operator overloading in Python means provide extended meaning beyond their predefined operational meaning. Such as, we use the \"+\" operator for adding two integers as well as joining two strings or merging two lists. We can achieve this as the \"+\" operator is overloaded by the \"int\" class and \"str\" class."
      ],
      "metadata": {
        "id": "W-4zdTiXseHb"
      }
    },
    {
      "cell_type": "markdown",
      "source": [
        "Q7. When do you consider allowing operator overloading of your classes?"
      ],
      "metadata": {
        "id": "kDtzcjQGsf7t"
      }
    },
    {
      "cell_type": "markdown",
      "source": [
        "When one or both operands are of a user-defined class or structure type, operator overloading makes it easier to specify user-defined implementation for such operations. This makes user-defined types more similar to the basic primitive data types in terms of behaviour."
      ],
      "metadata": {
        "id": "edvwmcw3vPpw"
      }
    },
    {
      "cell_type": "markdown",
      "source": [
        "Q8. What is the most popular form of operator overloading?"
      ],
      "metadata": {
        "id": "LA_2Z39DslAO"
      }
    },
    {
      "cell_type": "markdown",
      "source": [
        "The most frequent instance is the adding up operator '+', where it can be used for the usual addition and also for combining two different strings"
      ],
      "metadata": {
        "id": "-7SkDIw9vqS5"
      }
    },
    {
      "cell_type": "markdown",
      "source": [
        "Q9. What are the two most important concepts to grasp in order to comprehend Python OOP code?"
      ],
      "metadata": {
        "id": "r9hm6NFTvxej"
      }
    },
    {
      "cell_type": "markdown",
      "source": [
        "Both inheritance and polymorphism are fundamental concepts of object oriented programming. These concepts help us to create code that can be extended and easily maintainable."
      ],
      "metadata": {
        "id": "-MRUJTJKvy5H"
      }
    }
  ]
}