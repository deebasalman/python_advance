{
  "nbformat": 4,
  "nbformat_minor": 0,
  "metadata": {
    "colab": {
      "provenance": []
    },
    "kernelspec": {
      "name": "python3",
      "display_name": "Python 3"
    },
    "language_info": {
      "name": "python"
    }
  },
  "cells": [
    {
      "cell_type": "markdown",
      "source": [
        "Q1. Which two operator overloading methods can you use in your classes to support iteration?"
      ],
      "metadata": {
        "id": "jg7D2EUc8-cf"
      }
    },
    {
      "cell_type": "markdown",
      "source": [
        "The __iter__ returns the iterator object and is implicitly called at the start of loops. The __next__ method returns the next value and is implicitly called at each loop increment."
      ],
      "metadata": {
        "id": "AUA0yv9F9jhC"
      }
    },
    {
      "cell_type": "markdown",
      "source": [
        "Q2. In what contexts do the two operator overloading methods manage printing?"
      ],
      "metadata": {
        "id": "knT6KYdT9p4W"
      }
    },
    {
      "cell_type": "markdown",
      "source": [
        "by using return operator overloadind methods manage printing-"
      ],
      "metadata": {
        "id": "Tb2A-1vS90p4"
      }
    },
    {
      "cell_type": "code",
      "execution_count": 1,
      "metadata": {
        "colab": {
          "base_uri": "https://localhost:8080/"
        },
        "id": "N10tqpQb89Kc",
        "outputId": "353ebc42-5b03-45f0-a48d-67337b72956d"
      },
      "outputs": [
        {
          "output_type": "stream",
          "name": "stdout",
          "text": [
            "(3,5)\n"
          ]
        }
      ],
      "source": [
        "class Point:\n",
        "    def __init__(self, x=0, y=0):\n",
        "        self.x = x\n",
        "        self.y = y\n",
        "\n",
        "    def __str__(self):\n",
        "        return \"({0},{1})\".format(self.x, self.y)\n",
        "\n",
        "    def __add__(self, other):\n",
        "        x = self.x + other.x\n",
        "        y = self.y + other.y\n",
        "        return Point(x, y)\n",
        "\n",
        "\n",
        "p1 = Point(1, 2)\n",
        "p2 = Point(2, 3)\n",
        "\n",
        "print(p1+p2)"
      ]
    },
    {
      "cell_type": "markdown",
      "source": [
        "Q3. In a class, how do you intercept slice operations?"
      ],
      "metadata": {
        "id": "4nhRkqFrAfPR"
      }
    },
    {
      "cell_type": "markdown",
      "source": [
        "The __getitem__ method is used for accessing list items, array elements, dictionary entries etc. slice is a constructor in Python that creates slice object to represent set of indices that the range(start, stop, step) specifies. __getitem__ method can be implement in a class, and the behavior of slicing can be defined inside it."
      ],
      "metadata": {
        "id": "ehkoa-aUFkxa"
      }
    },
    {
      "cell_type": "code",
      "source": [
        "\n",
        "class Demo:\n",
        "    def __getitem__(self, key):\n",
        "         \n",
        "         print(key)\n",
        "          \n",
        "         return key\n",
        "a = Demo()\n",
        "  "
      ],
      "metadata": {
        "id": "3_RU169pFl3P"
      },
      "execution_count": 13,
      "outputs": []
    },
    {
      "cell_type": "code",
      "source": [
        "a[1]\n",
        "a[1,2]\n",
        "a[1,2,3]"
      ],
      "metadata": {
        "colab": {
          "base_uri": "https://localhost:8080/"
        },
        "id": "yfHzWrXQF0sI",
        "outputId": "0d9a8081-6a82-4852-b57d-e29344d87958"
      },
      "execution_count": 14,
      "outputs": [
        {
          "output_type": "stream",
          "name": "stdout",
          "text": [
            "1\n",
            "(1, 2)\n",
            "(1, 2, 3)\n"
          ]
        },
        {
          "output_type": "execute_result",
          "data": {
            "text/plain": [
              "(1, 2, 3)"
            ]
          },
          "metadata": {},
          "execution_count": 14
        }
      ]
    },
    {
      "cell_type": "markdown",
      "source": [
        "Q4. In a class, how do you capture in-place addition?"
      ],
      "metadata": {
        "id": "P2Bz2oPjFzYA"
      }
    },
    {
      "cell_type": "markdown",
      "source": [
        "Python in its definition provides methods to perform inplace operations, i.e doing assignment and computation in a single statement using “operator” module. For example,\n",
        "\n",
        "x += y is equivalent to x = operator.iadd(x, y) "
      ],
      "metadata": {
        "id": "7-YEy-G9zcXz"
      }
    },
    {
      "cell_type": "code",
      "source": [
        "import operator\n",
        "  \n",
        "x = operator.iadd(2, 3)\n",
        "print (\"The value after adding and assigning : \", end=\"\")\n",
        "print (x)\n",
        "  \n"
      ],
      "metadata": {
        "colab": {
          "base_uri": "https://localhost:8080/"
        },
        "id": "iGbJ3BDUz6ft",
        "outputId": "5bda737a-ac47-4efe-e5aa-78eab0b8cb4d"
      },
      "execution_count": 1,
      "outputs": [
        {
          "output_type": "stream",
          "name": "stdout",
          "text": [
            "The value after adding and assigning : 5\n"
          ]
        }
      ]
    },
    {
      "cell_type": "markdown",
      "source": [
        "Q5. When is it appropriate to use operator overloading?"
      ],
      "metadata": {
        "id": "X849V2oG0Uak"
      }
    },
    {
      "cell_type": "markdown",
      "source": [
        "Consider that we have two objects which are a physical representation of a class (user-defined data type) and we have to add two objects with binary ‘+’ operator it throws an error, because compiler don’t know how to add two objects. So we define a method for an operator and that process is called operator overloading."
      ],
      "metadata": {
        "id": "FY88bqVQ0m-A"
      }
    },
    {
      "cell_type": "code",
      "source": [],
      "metadata": {
        "id": "s1pTsH8O034F"
      },
      "execution_count": null,
      "outputs": []
    }
  ]
}