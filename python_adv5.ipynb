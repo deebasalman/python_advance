{
  "nbformat": 4,
  "nbformat_minor": 0,
  "metadata": {
    "colab": {
      "provenance": []
    },
    "kernelspec": {
      "name": "python3",
      "display_name": "Python 3"
    },
    "language_info": {
      "name": "python"
    }
  },
  "cells": [
    {
      "cell_type": "markdown",
      "source": [
        "Q1. What is the meaning of multiple inheritance?"
      ],
      "metadata": {
        "id": "dTJnfsNr1Yny"
      }
    },
    {
      "cell_type": "markdown",
      "source": [
        "In multiplr inheritance an object or class can inherit features from more than one parent object or parent class. It is distinct from single inheritance, where an object or class may only inherit from one particular object or class."
      ],
      "metadata": {
        "id": "Dj4khOIE1rgs"
      }
    },
    {
      "cell_type": "markdown",
      "source": [
        "Q2. What is the concept of delegation?"
      ],
      "metadata": {
        "id": "VnR_hC0r14vv"
      }
    },
    {
      "cell_type": "markdown",
      "source": [
        "Delegation means hand over the responsibility for a particular task to another class or method.\n",
        "\n",
        "It is a technique where an object expresses certain behavior to the outside but in reality delegates responsibility for implementing that behaviour to an associated object."
      ],
      "metadata": {
        "id": "e5ZoWGf62lbt"
      }
    },
    {
      "cell_type": "markdown",
      "source": [
        "Q3. What is the concept of composition?"
      ],
      "metadata": {
        "id": "Q9goqbPm2mnI"
      }
    },
    {
      "cell_type": "markdown",
      "source": [
        "It is one of the fundamental concepts of Object-Oriented Programming. In this concept, we will describe a class that references to one or more objects of other classes as an Instance variable. Here, by using the class name or by creating the object we can access the members of one class inside another class. It enables creating complex types by combining objects of different classes. It means that a class Composite can contain an object of another class Component."
      ],
      "metadata": {
        "id": "LLdo1FoS4Cv7"
      }
    },
    {
      "cell_type": "markdown",
      "source": [
        "Q4. What are bound methods and how do we use them?"
      ],
      "metadata": {
        "id": "puIjagkU4GB8"
      }
    },
    {
      "cell_type": "markdown",
      "source": [
        "A bound method is the one which is dependent on the instance of the class as the first argument. It passes the instance as the first argument which is used to access the variables and functions"
      ],
      "metadata": {
        "id": "3ThNOIyy4HC0"
      }
    },
    {
      "cell_type": "code",
      "execution_count": 1,
      "metadata": {
        "colab": {
          "base_uri": "https://localhost:8080/"
        },
        "id": "elJK83id1VPO",
        "outputId": "ca076740-3b3c-44a6-cf63-22c74a9d5e2c"
      },
      "outputs": [
        {
          "output_type": "stream",
          "name": "stdout",
          "text": [
            "<bound method A.func of <__main__.A object at 0x7f709c1e7580>>\n"
          ]
        }
      ],
      "source": [
        "class A:\n",
        "  \n",
        "    def func(self, arg):\n",
        "        self.arg = arg\n",
        "        print(\"Value of arg = \", arg)\n",
        "  \n",
        "  \n",
        "\n",
        "obj = A()  \n",
        "  \n",
        "# bound method\n",
        "print(obj.func)"
      ]
    },
    {
      "cell_type": "markdown",
      "source": [
        "Q5. What is the purpose of pseudoprivate attributes?"
      ],
      "metadata": {
        "id": "-EFDhSlh4xKe"
      }
    },
    {
      "cell_type": "markdown",
      "source": [
        " Pseudoprivate attributes are useful when creating subclasses, as they help prevent attribute name clashes between the base class and the subclass."
      ],
      "metadata": {
        "id": "ahhms7UO5NFt"
      }
    }
  ]
}