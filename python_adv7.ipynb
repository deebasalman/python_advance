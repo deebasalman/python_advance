{
  "nbformat": 4,
  "nbformat_minor": 0,
  "metadata": {
    "colab": {
      "provenance": []
    },
    "kernelspec": {
      "name": "python3",
      "display_name": "Python 3"
    },
    "language_info": {
      "name": "python"
    }
  },
  "cells": [
    {
      "cell_type": "markdown",
      "source": [
        "Q1. What is the purpose of the try statement?"
      ],
      "metadata": {
        "id": "fr8QF-2l3G9o"
      }
    },
    {
      "cell_type": "markdown",
      "source": [
        " The try block is used to check some code for errors i.e the code inside the try block will execute when there is no error in the program.\n"
      ],
      "metadata": {
        "id": "ZbRkFKk_3LCa"
      }
    },
    {
      "cell_type": "markdown",
      "source": [
        "Q2. What are the two most popular try statement variations?"
      ],
      "metadata": {
        "id": "CDuW8Db-3gAa"
      }
    },
    {
      "cell_type": "markdown",
      "source": [
        "There are two other optional segments to a try block: else and finally . Both of these optional blocks will come after the try and the except ."
      ],
      "metadata": {
        "id": "D2sm7odZ3jyd"
      }
    },
    {
      "cell_type": "markdown",
      "source": [
        "Q3. What is the purpose of the raise statement?"
      ],
      "metadata": {
        "id": "LZJQxC_g4hbD"
      }
    },
    {
      "cell_type": "markdown",
      "source": [
        "Python raise Keyword is used to raise exceptions or errors. The raise keyword raises an error and stops the control flow of the program."
      ],
      "metadata": {
        "id": "YhNTHv0d4mOt"
      }
    },
    {
      "cell_type": "markdown",
      "source": [
        "Q4. What does the assert statement do, and what other statement is it like?"
      ],
      "metadata": {
        "id": "9_aF2CgP5DXb"
      }
    },
    {
      "cell_type": "markdown",
      "source": [
        "The assert keyword is used when debugging code. The assert keyword lets you test if a condition in your code returns True, if not, the program will raise an AssertionError."
      ],
      "metadata": {
        "id": "0GS0yWZl5HEV"
      }
    },
    {
      "cell_type": "markdown",
      "source": [
        "Q5. What is the purpose of the with/as argument, and what other statement is it like?"
      ],
      "metadata": {
        "id": "I0D1h82p7yBg"
      }
    },
    {
      "cell_type": "markdown",
      "source": [
        "With statement helps avoiding bugs and leaks by ensuring that a resource is properly released when the code using the resource is completely executed."
      ],
      "metadata": {
        "id": "vi_nHG-I-PjF"
      }
    },
    {
      "cell_type": "code",
      "execution_count": null,
      "metadata": {
        "id": "HELiFv9R265B"
      },
      "outputs": [],
      "source": []
    }
  ]
}