{
  "nbformat": 4,
  "nbformat_minor": 0,
  "metadata": {
    "colab": {
      "provenance": []
    },
    "kernelspec": {
      "name": "python3",
      "display_name": "Python 3"
    },
    "language_info": {
      "name": "python"
    }
  },
  "cells": [
    {
      "cell_type": "markdown",
      "source": [
        "Q1. What are the two latest user-defined exception constraints in Python 3.X?"
      ],
      "metadata": {
        "id": "i3P2F7cwvapJ"
      }
    },
    {
      "cell_type": "markdown",
      "source": [
        " Some commonly raised Exceptions are ArithmeticError, AttributeError, ImportError, IOError, FileNotFoundError, etc."
      ],
      "metadata": {
        "id": "PEz2h70evfgB"
      }
    },
    {
      "cell_type": "markdown",
      "source": [
        "Q2. How are class-based exceptions that have been raised matched to handlers?"
      ],
      "metadata": {
        "id": "H1-5dWK4wtw4"
      }
    },
    {
      "cell_type": "markdown",
      "source": [
        "Class-based exceptions are either raised by the ABAP statement RAISE EXCEPTION or by the ABAP runtime environment. If a class-based exception occurs, the system interrupts the normal program flow and tries to find a suitable handler. If it does not find a handler, a runtime error occurs."
      ],
      "metadata": {
        "id": "wW_a9uvXwyo0"
      }
    },
    {
      "cell_type": "markdown",
      "source": [
        "Q3. Describe two methods for attaching context information to exception artefacts."
      ],
      "metadata": {
        "id": "6yGwzW-mz6sP"
      }
    },
    {
      "cell_type": "markdown",
      "source": [
        "1. User-defined exceptions: User-defined exceptions are custom exceptions created by programmers. They enable you to enforce restrictions or consequences on certain functions, values, or variables.\n",
        "\n",
        "2. Built-in exceptions: There are many different types of exceptions pre-defined by Python. These are called built-in exceptions."
      ],
      "metadata": {
        "id": "tGJQlM1p5x1F"
      }
    },
    {
      "cell_type": "markdown",
      "source": [
        "Q4. Describe two methods for specifying the text of an exception object&#39;s error message."
      ],
      "metadata": {
        "id": "p5fVkcVB3G1E"
      }
    },
    {
      "cell_type": "markdown",
      "source": [
        "1-NameError\n",
        "2-TypeError"
      ],
      "metadata": {
        "id": "lgLrdh6i32FA"
      }
    },
    {
      "cell_type": "markdown",
      "source": [
        "Q5. Why do you no longer use string-based exceptions?"
      ],
      "metadata": {
        "id": "yGlXCBqe7VTJ"
      }
    },
    {
      "cell_type": "markdown",
      "source": [
        "The string value of all built-in exceptions is their name, but this is not a requirement for user-defined exceptions or exceptions defined by library modules."
      ],
      "metadata": {
        "id": "pTe9aKueEtNt"
      }
    },
    {
      "cell_type": "code",
      "execution_count": null,
      "metadata": {
        "id": "64I8TwHBvMPi"
      },
      "outputs": [],
      "source": []
    },
    {
      "cell_type": "markdown",
      "source": [],
      "metadata": {
        "id": "x-PnW_PFCLvv"
      }
    }
  ]
}