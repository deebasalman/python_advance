{
  "nbformat": 4,
  "nbformat_minor": 0,
  "metadata": {
    "colab": {
      "provenance": []
    },
    "kernelspec": {
      "name": "python3",
      "display_name": "Python 3"
    },
    "language_info": {
      "name": "python"
    }
  },
  "cells": [
    {
      "cell_type": "markdown",
      "source": [
        "Q1. In Python 3.X, what are the names and functions of string object types?"
      ],
      "metadata": {
        "id": "H5ztOIH7r3TA"
      }
    },
    {
      "cell_type": "markdown",
      "source": [
        "Strings are objects in Python which means that there is a set of built-in functions that you can use to manipulate strings. You use dot-notation to invoke the functions on a string object such as sentence."
      ],
      "metadata": {
        "id": "NrQADOGfvUU8"
      }
    },
    {
      "cell_type": "markdown",
      "source": [
        "Q2. How do the string forms in Python 3.X vary in terms of operations?"
      ],
      "metadata": {
        "id": "QyCSqAWaviuW"
      }
    },
    {
      "cell_type": "markdown",
      "source": [
        "string operations that can be performed in Python:\n",
        "\n",
        "*Concatenation of two or more strings.\n",
        "\n",
        "*Extracting or slicing partial strings from string values.\n",
        "\n",
        "*Adding or removing spaces.\n",
        "\n",
        "*Converting to lower or upper case.\n",
        "\n",
        "*Formatting strings using string formatters.\n",
        "\n",
        "*Finding and/or replacing a text in the given string with some other text.\n",
        "\n",
        "And the list of operations is countless. Python provides several built-in methods that let us to perform operations on a string in a flexible way."
      ],
      "metadata": {
        "id": "jZAuGZZVwDR0"
      }
    },
    {
      "cell_type": "markdown",
      "source": [
        "Q3. In 3.X, how do you put non-ASCII Unicode characters in a string?"
      ],
      "metadata": {
        "id": "VG9Nh47SxgWC"
      }
    },
    {
      "cell_type": "markdown",
      "source": [
        "Import unidecode library\n",
        "\n",
        "Call unidecode() method with input text"
      ],
      "metadata": {
        "id": "_Y6kNxqdxu51"
      }
    },
    {
      "cell_type": "markdown",
      "source": [
        "Q4. In Python 3.X, what are the key differences between text-mode and binary-mode files?"
      ],
      "metadata": {
        "id": "qAjJxo1ozZhH"
      }
    },
    {
      "cell_type": "markdown",
      "source": [
        "In text mode, Python automatically handles the encoding and decoding of the data, depending on the platform's default encoding scheme. Binary files, on the other hand, are files that contain non-text data, such as images, audio files, and executable files."
      ],
      "metadata": {
        "id": "Cl4CmXD2za4_"
      }
    },
    {
      "cell_type": "markdown",
      "source": [
        "Q5. How can you interpret a Unicode text file containing text encoded in a different encoding than\n",
        "your platform&#39;s default?"
      ],
      "metadata": {
        "id": "jGwg9Abczlq_"
      }
    },
    {
      "cell_type": "markdown",
      "source": [
        "Because Word is based on Unicode, Word automatically saves files encoded as Unicode. You can open and read Unicode-encoded files on your English-language computer system regardless of the language of the text. Likewise, when you use your English-language system to save files encoded as Unicode, the file can include characters not found in Western European alphabets, such as Greek, Cyrillic, Arabic, or Japanese characters."
      ],
      "metadata": {
        "id": "7q3teNELzpY_"
      }
    },
    {
      "cell_type": "markdown",
      "source": [
        "Q6. What is the best way to make a Unicode text file in a particular encoding format?"
      ],
      "metadata": {
        "id": "yPqb2F9U-ATp"
      }
    },
    {
      "cell_type": "markdown",
      "source": [
        " Word displays the Convert File dialog box every time you open a file in a format other than a Word format (Word formats include .doc, .dot, .docx, .docm, .dotx, or .dotm files). If you frequently work with such files but rarely want to choose an encoding standard, remember to switch this option off to prevent having this dialog box open unnecessarily."
      ],
      "metadata": {
        "id": "T-ZT03gp-vVg"
      }
    },
    {
      "cell_type": "markdown",
      "source": [
        "Q7. What qualifies ASCII text as a form of Unicode text?"
      ],
      "metadata": {
        "id": "FvQ7kywd-3nJ"
      }
    },
    {
      "cell_type": "markdown",
      "source": [
        "ASCII is a proper subset of Unicode, which means that Unicode includes all the characters that can be encoded in ASCII, plus many more. So, while ASCII is useful for representing characters in the English language, Unicode is capable of representing a much wider range of characters in other languages and scripts."
      ],
      "metadata": {
        "id": "1uhrIcIn__JW"
      }
    },
    {
      "cell_type": "markdown",
      "source": [
        "Q8. How much of an effect does the change in string types in Python 3.X have on your code?"
      ],
      "metadata": {
        "id": "bjgRr2s87jZ0"
      }
    },
    {
      "cell_type": "markdown",
      "source": [
        "One of the most noticeable changes in Python 3.0 is the mutation of string object types. In a nutshell, 2. X's str and unicode types have morphed into 3. X's bytes and str types, and a new mutable bytearray type has been added."
      ],
      "metadata": {
        "id": "xApfXk7y7lTq"
      }
    },
    {
      "cell_type": "code",
      "execution_count": null,
      "metadata": {
        "id": "fDQzYOwer18z"
      },
      "outputs": [],
      "source": []
    }
  ]
}