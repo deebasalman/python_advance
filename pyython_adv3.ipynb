{
  "nbformat": 4,
  "nbformat_minor": 0,
  "metadata": {
    "colab": {
      "provenance": []
    },
    "kernelspec": {
      "name": "python3",
      "display_name": "Python 3"
    },
    "language_info": {
      "name": "python"
    }
  },
  "cells": [
    {
      "cell_type": "markdown",
      "source": [
        "1. What is the concept of an abstract superclass?"
      ],
      "metadata": {
        "id": "_BT1Y0PnxJxy"
      }
    },
    {
      "cell_type": "markdown",
      "source": [
        "An abstract class in Python is typically created to declare a set of methods that must be created in any child class built on top of this abstract class. Similarly, an abstract method is one that doesn't have any implementation"
      ],
      "metadata": {
        "id": "iMCEzxN2xrDr"
      }
    },
    {
      "cell_type": "markdown",
      "source": [
        "2. What happens when a class statement&#39;s top level contains a basic assignment statement?"
      ],
      "metadata": {
        "id": "PyYTzC2ExtEp"
      }
    },
    {
      "cell_type": "code",
      "execution_count": 1,
      "metadata": {
        "id": "bC98G7vzxI1A"
      },
      "outputs": [],
      "source": [
        "class Student:\n",
        "    count = 0\n",
        "    def __init__(self):\n",
        "        Student.count += 1  "
      ]
    },
    {
      "cell_type": "markdown",
      "source": [
        "when class top level contains a basic assigment statement ,we can use it by its class name."
      ],
      "metadata": {
        "id": "s1aP8tl1zSgb"
      }
    },
    {
      "cell_type": "markdown",
      "source": [
        "3. Why does a class need to manually call a superclass&#39;s __init__ method?"
      ],
      "metadata": {
        "id": "6qNecnY5z0cI"
      }
    },
    {
      "cell_type": "markdown",
      "source": [
        "The __init__ function is used to set everything up when you create an instance of the class, so users of class B will assume that this has been done and if not, then it may produce bugs or side effects the user does not understand."
      ],
      "metadata": {
        "id": "WeBPEfY8z6Lz"
      }
    },
    {
      "cell_type": "markdown",
      "source": [
        "4. How can you augment, instead of completely replacing, an inherited method?"
      ],
      "metadata": {
        "id": "PvRU-xUQ1Ng1"
      }
    },
    {
      "cell_type": "markdown",
      "source": [
        "A more sophisticated way to augment an inherited method involves forwarding. Message forwarding allows you to augment an inherited method in such a way that it can perform its inherited action and some new action."
      ],
      "metadata": {
        "id": "dk9A8CXZ1VVe"
      }
    },
    {
      "cell_type": "markdown",
      "source": [
        "5. How is the local scope of a class different from that of a function?"
      ],
      "metadata": {
        "id": "LE7Hf1be2L8D"
      }
    },
    {
      "cell_type": "markdown",
      "source": [
        "local scope of a class refer a scope in a class,all the function of the class can use it but in function local scope variable can only use with in a function."
      ],
      "metadata": {
        "id": "8SnUSCcC3dE1"
      }
    }
  ]
}